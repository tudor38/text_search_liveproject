{
 "cells": [
  {
   "cell_type": "code",
   "execution_count": 1,
   "id": "f496a5a0-3568-4aff-bcb4-34c40b9c2f6f",
   "metadata": {},
   "outputs": [],
   "source": [
    "import spacy\n",
    "import json\n",
    "# import numpy as np\n",
    "# from sklearn.metrics.pairwise import cosine_similarity"
   ]
  },
  {
   "cell_type": "code",
   "execution_count": 2,
   "id": "1df6cca3-3d6e-4b7a-bf7b-5970a3c00332",
   "metadata": {},
   "outputs": [],
   "source": [
    "with open(\"./data/data.json\", \"r\") as file: data = json.load(file)"
   ]
  },
  {
   "cell_type": "code",
   "execution_count": 3,
   "id": "fa96aac2-c38c-46dc-a58a-d4c664f7db79",
   "metadata": {},
   "outputs": [],
   "source": [
    "nlp = spacy.load(\"en_core_web_sm\")"
   ]
  },
  {
   "cell_type": "code",
   "execution_count": 4,
   "id": "d5c9e89a-0467-4859-a996-aaa5bd02193c",
   "metadata": {},
   "outputs": [],
   "source": [
    "texts = [d[\"text\"] for d in data]\n",
    "docs = list(nlp.pipe(texts)) # https://spacy.io/usage/processing-pipelines#processing"
   ]
  },
  {
   "cell_type": "code",
   "execution_count": 5,
   "id": "2ca831f7-c4c9-459c-85a7-35adf75dd8b1",
   "metadata": {},
   "outputs": [],
   "source": [
    "def transform(doc):\n",
    "    no_stop = [token for token in doc if not token.is_stop]\n",
    "    no_punct = [token for token in no_stop if not token.is_punct]\n",
    "    lemma = [token.lemma_ for token in no_punct]\n",
    "    lower_case = [token.lower() for token in lemma]\n",
    "    return lower_case"
   ]
  },
  {
   "cell_type": "code",
   "execution_count": 6,
   "id": "458d10b0-e115-4b52-b7ec-33b8786d7faa",
   "metadata": {},
   "outputs": [],
   "source": [
    "# import copy\n",
    "# data_transformed = copy.deepcopy(data)\n",
    "for ndx, d in enumerate(data):\n",
    "    d.update({\"tokenized_text\": transform(docs[ndx])})"
   ]
  },
  {
   "cell_type": "code",
   "execution_count": 7,
   "id": "83ded328-f1df-4444-8662-8323dccd4c70",
   "metadata": {},
   "outputs": [],
   "source": [
    "with open(\"./data/data_transformed.json\", \"w\") as file: json.dump(data, file)"
   ]
  }
 ],
 "metadata": {
  "kernelspec": {
   "display_name": "Python 3",
   "language": "python",
   "name": "python3"
  },
  "language_info": {
   "codemirror_mode": {
    "name": "ipython",
    "version": 3
   },
   "file_extension": ".py",
   "mimetype": "text/x-python",
   "name": "python",
   "nbconvert_exporter": "python",
   "pygments_lexer": "ipython3",
   "version": "3.7.9"
  }
 },
 "nbformat": 4,
 "nbformat_minor": 5
}
